{
 "cells": [
  {
   "cell_type": "markdown",
   "metadata": {},
   "source": [
    "# Learning Robust Algorithms for Online Allocation Problems Using Adversarial Training\n",
    "\n",
    "Author list:\n",
    "- Goran Zuzic\n",
    "- Di Wang\n",
    "- Aranyak Mehta\n",
    "- D. Sivakumar"
   ]
  },
  {
   "cell_type": "code",
   "execution_count": 1,
   "metadata": {},
   "outputs": [
    {
     "name": "stderr",
     "output_type": "stream",
     "text": [
      "/opt/miniconda3/lib/python3.9/site-packages/tqdm/auto.py:22: TqdmWarning: IProgress not found. Please update jupyter and ipywidgets. See https://ipywidgets.readthedocs.io/en/stable/user_install.html\n",
      "  from .autonotebook import tqdm as notebook_tqdm\n"
     ]
    }
   ],
   "source": [
    "import torch\n",
    "import torchvision\n",
    "from torch import nn, Tensor\n",
    "import torch.nn.functional as F\n",
    "from torch.utils.data import DataLoader\n",
    "import numpy as np\n",
    "from matplotlib import pyplot as plt\n",
    "import pandas as pd\n",
    "import math\n",
    "import os\n",
    "%matplotlib inline\n"
   ]
  },
  {
   "cell_type": "code",
   "execution_count": 2,
   "metadata": {},
   "outputs": [
    {
     "name": "stdout",
     "output_type": "stream",
     "text": [
      "NVIDIA GeForce RTX 3090 Ti\n"
     ]
    }
   ],
   "source": [
    "# Device configuration\n",
    "device = torch.device('cuda' if torch.cuda.is_available() else 'cpu')\n",
    "\n",
    "if device == torch.device('cuda'):\n",
    "    print(torch.cuda.get_device_name(device))\n"
   ]
  },
  {
   "cell_type": "markdown",
   "metadata": {},
   "source": [
    "# YaoLearner framework\n",
    "\n",
    "adversarial training for finding max-min strategies througha training framework that we call **YaoLearner** due to the inspiration from Yao’s Lemma (Appendix C).\n"
   ]
  },
  {
   "cell_type": "markdown",
   "metadata": {},
   "source": [
    "## Pseudocode"
   ]
  },
  {
   "cell_type": "code",
   "execution_count": 8,
   "metadata": {},
   "outputs": [],
   "source": [
    "# Hyper Parameters\n",
    "# T, T_{alg}, T_{adv}, T_{add}, T_{restart}, n_{batch}\n",
    "n_batch = 100\n",
    "n_noice = 100\n",
    "T_alg = 4\n",
    "T_adv = 4\n",
    "\n",
    "# distribution D\n",
    "\n",
    "# parameter $\\alpha$\n"
   ]
  },
  {
   "cell_type": "markdown",
   "metadata": {},
   "source": [
    "## Algorithm network\n"
   ]
  },
  {
   "cell_type": "code",
   "execution_count": null,
   "metadata": {},
   "outputs": [],
   "source": []
  },
  {
   "cell_type": "markdown",
   "metadata": {},
   "source": [
    "## Adversary network\n",
    "\n",
    "The output of the adversary network is an instance of the AdWords problem, which consists of an $m×n$ matrix $A$. \n",
    "\n",
    "The $j,i$-th entry of $A$ is a real value in $[0,1]$ representing the bid of advertiser $i$ for the $j$-th arriving *ad-slot*. \n",
    "\n",
    "In most of our experiments we fix the budget of each advertiser to bem/n, butwe also have experiments (in robust stochastic training) where the adversary network additionally outputsann-dimensional vector $B$ of individual budgets.\n",
    "The adversary network takes as input an $m$-dimensional **random Gaussian vector** to provide randomness to the search for the difficult instances.\n",
    "\n",
    "\n",
    "Unlike the algorithm network, which is designed to work on arbitrarym,n, we do not need the adversarynetwork to scale: in our training, we fix $m= 25,n= 5$ for the adversary network. \n",
    "Since the role of theadversary network is to generate instances to train the algorithm network, we note that, in general, it isdesirable for it to generate fixed small-size instances (that capture the essential difficulty of the problem) sothat training time/resources may be minimized. \n",
    "One may also want to use the adversary-generated instancesto gain human-comprehensible intuition about the weakness of an algorithm, and again in this case small butnot tiny instances would best serve the purpose"
   ]
  },
  {
   "cell_type": "code",
   "execution_count": null,
   "metadata": {},
   "outputs": [],
   "source": [
    "class AdversaryNet(nn.Module):\n",
    "    def __init__(self, m: int = 25, n: int = 5) -> None:\n",
    "        super(AdversaryNet, self).__init__()\n",
    "        # matrix A\n",
    "        # TODO\n",
    "\n",
    "    def forward(self, x: Tensor) -> Tensor:\n",
    "        pass\n",
    "\n",
    "    def re_initialization(self) -> None:\n",
    "        pass\n"
   ]
  },
  {
   "cell_type": "markdown",
   "metadata": {},
   "source": [
    "## An evaluation environment"
   ]
  },
  {
   "cell_type": "code",
   "execution_count": null,
   "metadata": {},
   "outputs": [],
   "source": []
  },
  {
   "cell_type": "markdown",
   "metadata": {},
   "source": [
    "## An experience array"
   ]
  },
  {
   "cell_type": "code",
   "execution_count": null,
   "metadata": {},
   "outputs": [],
   "source": []
  }
 ],
 "metadata": {
  "kernelspec": {
   "display_name": "Python 3.9.13 ('base')",
   "language": "python",
   "name": "python3"
  },
  "language_info": {
   "codemirror_mode": {
    "name": "ipython",
    "version": 3
   },
   "file_extension": ".py",
   "mimetype": "text/x-python",
   "name": "python",
   "nbconvert_exporter": "python",
   "pygments_lexer": "ipython3",
   "version": "3.9.15"
  },
  "orig_nbformat": 4,
  "vscode": {
   "interpreter": {
    "hash": "3d597f4c481aa0f25dceb95d2a0067e73c0966dcbd003d741d821a7208527ecf"
   }
  }
 },
 "nbformat": 4,
 "nbformat_minor": 2
}
